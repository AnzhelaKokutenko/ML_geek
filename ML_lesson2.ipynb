{
 "cells": [
  {
   "cell_type": "code",
   "execution_count": 1,
   "id": "692fb9ca",
   "metadata": {},
   "outputs": [],
   "source": [
    "import pandas as pd\n",
    "import numpy as np"
   ]
  },
  {
   "cell_type": "code",
   "execution_count": 2,
   "id": "6a32699f",
   "metadata": {},
   "outputs": [
    {
     "name": "stdout",
     "output_type": "stream",
     "text": [
      "(27000, 2)\n"
     ]
    },
    {
     "data": {
      "text/html": [
       "<div>\n",
       "<style scoped>\n",
       "    .dataframe tbody tr th:only-of-type {\n",
       "        vertical-align: middle;\n",
       "    }\n",
       "\n",
       "    .dataframe tbody tr th {\n",
       "        vertical-align: top;\n",
       "    }\n",
       "\n",
       "    .dataframe thead th {\n",
       "        text-align: right;\n",
       "    }\n",
       "</style>\n",
       "<table border=\"1\" class=\"dataframe\">\n",
       "  <thead>\n",
       "    <tr style=\"text-align: right;\">\n",
       "      <th></th>\n",
       "      <th>doc_id</th>\n",
       "      <th>title</th>\n",
       "    </tr>\n",
       "  </thead>\n",
       "  <tbody>\n",
       "    <tr>\n",
       "      <th>0</th>\n",
       "      <td>6</td>\n",
       "      <td>Заместитель председателяnправительства РФnСерг...</td>\n",
       "    </tr>\n",
       "    <tr>\n",
       "      <th>1</th>\n",
       "      <td>4896</td>\n",
       "      <td>Матч 1/16 финала Кубка России по футболу был п...</td>\n",
       "    </tr>\n",
       "    <tr>\n",
       "      <th>2</th>\n",
       "      <td>4897</td>\n",
       "      <td>Форвард «Авангарда» Томаш Заборский прокоммент...</td>\n",
       "    </tr>\n",
       "  </tbody>\n",
       "</table>\n",
       "</div>"
      ],
      "text/plain": [
       "   doc_id                                              title\n",
       "0       6  Заместитель председателяnправительства РФnСерг...\n",
       "1    4896  Матч 1/16 финала Кубка России по футболу был п...\n",
       "2    4897  Форвард «Авангарда» Томаш Заборский прокоммент..."
      ]
     },
     "execution_count": 2,
     "metadata": {},
     "output_type": "execute_result"
    }
   ],
   "source": [
    "news = pd.read_csv(\"./articles.csv\")\n",
    "print(news.shape)\n",
    "news.head(3)"
   ]
  },
  {
   "cell_type": "code",
   "execution_count": 3,
   "id": "b844a8aa",
   "metadata": {},
   "outputs": [
    {
     "data": {
      "text/html": [
       "<div>\n",
       "<style scoped>\n",
       "    .dataframe tbody tr th:only-of-type {\n",
       "        vertical-align: middle;\n",
       "    }\n",
       "\n",
       "    .dataframe tbody tr th {\n",
       "        vertical-align: top;\n",
       "    }\n",
       "\n",
       "    .dataframe thead th {\n",
       "        text-align: right;\n",
       "    }\n",
       "</style>\n",
       "<table border=\"1\" class=\"dataframe\">\n",
       "  <thead>\n",
       "    <tr style=\"text-align: right;\">\n",
       "      <th></th>\n",
       "      <th>uid</th>\n",
       "      <th>articles</th>\n",
       "    </tr>\n",
       "  </thead>\n",
       "  <tbody>\n",
       "    <tr>\n",
       "      <th>0</th>\n",
       "      <td>u105138</td>\n",
       "      <td>[293672, 293328, 293001, 293622, 293126, 1852]</td>\n",
       "    </tr>\n",
       "    <tr>\n",
       "      <th>1</th>\n",
       "      <td>u108690</td>\n",
       "      <td>[3405, 1739, 2972, 1158, 1599, 322665]</td>\n",
       "    </tr>\n",
       "    <tr>\n",
       "      <th>2</th>\n",
       "      <td>u108339</td>\n",
       "      <td>[1845, 2009, 2356, 1424, 2939, 323389]</td>\n",
       "    </tr>\n",
       "  </tbody>\n",
       "</table>\n",
       "</div>"
      ],
      "text/plain": [
       "       uid                                        articles\n",
       "0  u105138  [293672, 293328, 293001, 293622, 293126, 1852]\n",
       "1  u108690          [3405, 1739, 2972, 1158, 1599, 322665]\n",
       "2  u108339          [1845, 2009, 2356, 1424, 2939, 323389]"
      ]
     },
     "execution_count": 3,
     "metadata": {},
     "output_type": "execute_result"
    }
   ],
   "source": [
    "users = pd.read_csv(\"./users_articles.csv\")\n",
    "users.head(3)"
   ]
  },
  {
   "cell_type": "code",
   "execution_count": 4,
   "id": "4fc52524",
   "metadata": {},
   "outputs": [
    {
     "name": "stdout",
     "output_type": "stream",
     "text": [
      "Requirement already satisfied: gensim in c:\\programdata\\anaconda3\\lib\\site-packages (4.2.0)\n",
      "Requirement already satisfied: scipy>=0.18.1 in c:\\programdata\\anaconda3\\lib\\site-packages (from gensim) (1.6.2)\n",
      "Requirement already satisfied: numpy>=1.17.0 in c:\\programdata\\anaconda3\\lib\\site-packages (from gensim) (1.20.1)\n",
      "Requirement already satisfied: smart-open>=1.8.1 in c:\\programdata\\anaconda3\\lib\\site-packages (from gensim) (6.0.0)\n",
      "Requirement already satisfied: Cython==0.29.28 in c:\\programdata\\anaconda3\\lib\\site-packages (from gensim) (0.29.28)\n",
      "Collecting python-Levenshtein\n",
      "  Using cached python-Levenshtein-0.12.2.tar.gz (50 kB)\n",
      "Requirement already satisfied: setuptools in c:\\programdata\\anaconda3\\lib\\site-packages (from python-Levenshtein) (52.0.0.post20210125)\n",
      "Building wheels for collected packages: python-Levenshtein\n",
      "  Building wheel for python-Levenshtein (setup.py): started\n",
      "  Building wheel for python-Levenshtein (setup.py): finished with status 'error'\n",
      "  Running setup.py clean for python-Levenshtein\n",
      "Failed to build python-Levenshtein\n",
      "Installing collected packages: python-Levenshtein\n",
      "    Running setup.py install for python-Levenshtein: started\n",
      "    Running setup.py install for python-Levenshtein: finished with status 'error'\n"
     ]
    },
    {
     "name": "stderr",
     "output_type": "stream",
     "text": [
      "  ERROR: Command errored out with exit status 1:\n",
      "   command: 'C:\\ProgramData\\Anaconda3\\python.exe' -u -c 'import sys, setuptools, tokenize; sys.argv[0] = '\"'\"'C:\\\\Users\\\\akokutenko\\\\AppData\\\\Local\\\\Temp\\\\pip-install-ike8jr32\\\\python-levenshtein_dc3a4c3095114eccbd62094f46251899\\\\setup.py'\"'\"'; __file__='\"'\"'C:\\\\Users\\\\akokutenko\\\\AppData\\\\Local\\\\Temp\\\\pip-install-ike8jr32\\\\python-levenshtein_dc3a4c3095114eccbd62094f46251899\\\\setup.py'\"'\"';f=getattr(tokenize, '\"'\"'open'\"'\"', open)(__file__);code=f.read().replace('\"'\"'\\r\\n'\"'\"', '\"'\"'\\n'\"'\"');f.close();exec(compile(code, __file__, '\"'\"'exec'\"'\"'))' bdist_wheel -d 'C:\\Users\\akokutenko\\AppData\\Local\\Temp\\pip-wheel-ik54uljt'\n",
      "       cwd: C:\\Users\\akokutenko\\AppData\\Local\\Temp\\pip-install-ike8jr32\\python-levenshtein_dc3a4c3095114eccbd62094f46251899\\\n",
      "  Complete output (27 lines):\n",
      "  running bdist_wheel\n",
      "  running build\n",
      "  running build_py\n",
      "  creating build\n",
      "  creating build\\lib.win-amd64-3.8\n",
      "  creating build\\lib.win-amd64-3.8\\Levenshtein\n",
      "  copying Levenshtein\\StringMatcher.py -> build\\lib.win-amd64-3.8\\Levenshtein\n",
      "  copying Levenshtein\\__init__.py -> build\\lib.win-amd64-3.8\\Levenshtein\n",
      "  running egg_info\n",
      "  writing python_Levenshtein.egg-info\\PKG-INFO\n",
      "  writing dependency_links to python_Levenshtein.egg-info\\dependency_links.txt\n",
      "  writing entry points to python_Levenshtein.egg-info\\entry_points.txt\n",
      "  writing namespace_packages to python_Levenshtein.egg-info\\namespace_packages.txt\n",
      "  writing requirements to python_Levenshtein.egg-info\\requires.txt\n",
      "  writing top-level names to python_Levenshtein.egg-info\\top_level.txt\n",
      "  reading manifest file 'python_Levenshtein.egg-info\\SOURCES.txt'\n",
      "  reading manifest template 'MANIFEST.in'\n",
      "  warning: no previously-included files matching '*pyc' found anywhere in distribution\n",
      "  warning: no previously-included files matching '*so' found anywhere in distribution\n",
      "  warning: no previously-included files matching '.project' found anywhere in distribution\n",
      "  warning: no previously-included files matching '.pydevproject' found anywhere in distribution\n",
      "  writing manifest file 'python_Levenshtein.egg-info\\SOURCES.txt'\n",
      "  copying Levenshtein\\_levenshtein.c -> build\\lib.win-amd64-3.8\\Levenshtein\n",
      "  copying Levenshtein\\_levenshtein.h -> build\\lib.win-amd64-3.8\\Levenshtein\n",
      "  running build_ext\n",
      "  building 'Levenshtein._levenshtein' extension\n",
      "  error: Microsoft Visual C++ 14.0 or greater is required. Get it with \"Microsoft C++ Build Tools\": https://visualstudio.microsoft.com/visual-cpp-build-tools/\n",
      "  ----------------------------------------\n",
      "  ERROR: Failed building wheel for python-Levenshtein\n",
      "    ERROR: Command errored out with exit status 1:\n",
      "     command: 'C:\\ProgramData\\Anaconda3\\python.exe' -u -c 'import sys, setuptools, tokenize; sys.argv[0] = '\"'\"'C:\\\\Users\\\\akokutenko\\\\AppData\\\\Local\\\\Temp\\\\pip-install-ike8jr32\\\\python-levenshtein_dc3a4c3095114eccbd62094f46251899\\\\setup.py'\"'\"'; __file__='\"'\"'C:\\\\Users\\\\akokutenko\\\\AppData\\\\Local\\\\Temp\\\\pip-install-ike8jr32\\\\python-levenshtein_dc3a4c3095114eccbd62094f46251899\\\\setup.py'\"'\"';f=getattr(tokenize, '\"'\"'open'\"'\"', open)(__file__);code=f.read().replace('\"'\"'\\r\\n'\"'\"', '\"'\"'\\n'\"'\"');f.close();exec(compile(code, __file__, '\"'\"'exec'\"'\"'))' install --record 'C:\\Users\\akokutenko\\AppData\\Local\\Temp\\pip-record-_jxu3em0\\install-record.txt' --single-version-externally-managed --compile --install-headers 'C:\\ProgramData\\Anaconda3\\Include\\python-Levenshtein'\n",
      "         cwd: C:\\Users\\akokutenko\\AppData\\Local\\Temp\\pip-install-ike8jr32\\python-levenshtein_dc3a4c3095114eccbd62094f46251899\\\n",
      "    Complete output (27 lines):\n",
      "    running install\n",
      "    running build\n",
      "    running build_py\n",
      "    creating build\n",
      "    creating build\\lib.win-amd64-3.8\n",
      "    creating build\\lib.win-amd64-3.8\\Levenshtein\n",
      "    copying Levenshtein\\StringMatcher.py -> build\\lib.win-amd64-3.8\\Levenshtein\n",
      "    copying Levenshtein\\__init__.py -> build\\lib.win-amd64-3.8\\Levenshtein\n",
      "    running egg_info\n",
      "    writing python_Levenshtein.egg-info\\PKG-INFO\n",
      "    writing dependency_links to python_Levenshtein.egg-info\\dependency_links.txt\n",
      "    writing entry points to python_Levenshtein.egg-info\\entry_points.txt\n",
      "    writing namespace_packages to python_Levenshtein.egg-info\\namespace_packages.txt\n",
      "    writing requirements to python_Levenshtein.egg-info\\requires.txt\n",
      "    writing top-level names to python_Levenshtein.egg-info\\top_level.txt\n",
      "    reading manifest file 'python_Levenshtein.egg-info\\SOURCES.txt'\n",
      "    reading manifest template 'MANIFEST.in'\n",
      "    warning: no previously-included files matching '*pyc' found anywhere in distribution\n",
      "    warning: no previously-included files matching '*so' found anywhere in distribution\n",
      "    warning: no previously-included files matching '.project' found anywhere in distribution\n",
      "    warning: no previously-included files matching '.pydevproject' found anywhere in distribution\n",
      "    writing manifest file 'python_Levenshtein.egg-info\\SOURCES.txt'\n",
      "    copying Levenshtein\\_levenshtein.c -> build\\lib.win-amd64-3.8\\Levenshtein\n",
      "    copying Levenshtein\\_levenshtein.h -> build\\lib.win-amd64-3.8\\Levenshtein\n",
      "    running build_ext\n",
      "    building 'Levenshtein._levenshtein' extension\n",
      "    error: Microsoft Visual C++ 14.0 or greater is required. Get it with \"Microsoft C++ Build Tools\": https://visualstudio.microsoft.com/visual-cpp-build-tools/\n",
      "    ----------------------------------------\n",
      "ERROR: Command errored out with exit status 1: 'C:\\ProgramData\\Anaconda3\\python.exe' -u -c 'import sys, setuptools, tokenize; sys.argv[0] = '\"'\"'C:\\\\Users\\\\akokutenko\\\\AppData\\\\Local\\\\Temp\\\\pip-install-ike8jr32\\\\python-levenshtein_dc3a4c3095114eccbd62094f46251899\\\\setup.py'\"'\"'; __file__='\"'\"'C:\\\\Users\\\\akokutenko\\\\AppData\\\\Local\\\\Temp\\\\pip-install-ike8jr32\\\\python-levenshtein_dc3a4c3095114eccbd62094f46251899\\\\setup.py'\"'\"';f=getattr(tokenize, '\"'\"'open'\"'\"', open)(__file__);code=f.read().replace('\"'\"'\\r\\n'\"'\"', '\"'\"'\\n'\"'\"');f.close();exec(compile(code, __file__, '\"'\"'exec'\"'\"'))' install --record 'C:\\Users\\akokutenko\\AppData\\Local\\Temp\\pip-record-_jxu3em0\\install-record.txt' --single-version-externally-managed --compile --install-headers 'C:\\ProgramData\\Anaconda3\\Include\\python-Levenshtein' Check the logs for full command output.\n"
     ]
    },
    {
     "name": "stdout",
     "output_type": "stream",
     "text": [
      "Requirement already satisfied: razdel in c:\\programdata\\anaconda3\\lib\\site-packages (0.5.0)\n",
      "Requirement already satisfied: pymorphy2 in c:\\programdata\\anaconda3\\lib\\site-packages (0.9.1)\n",
      "Requirement already satisfied: dawg-python>=0.7.1 in c:\\programdata\\anaconda3\\lib\\site-packages (from pymorphy2) (0.7.2)\n",
      "Requirement already satisfied: docopt>=0.6 in c:\\programdata\\anaconda3\\lib\\site-packages (from pymorphy2) (0.6.2)\n",
      "Requirement already satisfied: pymorphy2-dicts-ru<3.0,>=2.4 in c:\\programdata\\anaconda3\\lib\\site-packages (from pymorphy2) (2.4.417127.4579844)\n"
     ]
    }
   ],
   "source": [
    "!pip install gensim\n",
    "!pip install python-Levenshtein\n",
    "!pip install razdel\n",
    "!pip install pymorphy2"
   ]
  },
  {
   "cell_type": "code",
   "execution_count": 5,
   "id": "c4e80444",
   "metadata": {},
   "outputs": [],
   "source": [
    "from gensim.corpora.dictionary import Dictionary\n",
    "import re\n",
    "import nltk\n",
    "from nltk.corpus import stopwords\n",
    "from nltk.tokenize import word_tokenize\n",
    "from razdel import tokenize \n",
    "import pymorphy2\n"
   ]
  },
  {
   "cell_type": "code",
   "execution_count": 6,
   "id": "616f80d1",
   "metadata": {},
   "outputs": [
    {
     "name": "stderr",
     "output_type": "stream",
     "text": [
      "[nltk_data] Downloading package stopwords to\n",
      "[nltk_data]     C:\\Users\\akokutenko\\AppData\\Roaming\\nltk_data...\n",
      "[nltk_data]   Package stopwords is already up-to-date!\n"
     ]
    }
   ],
   "source": [
    "nltk.download('stopwords')\n",
    "stopword_ru = stopwords.words('russian')\n",
    "len(stopword_ru)\n",
    "morph = pymorphy2.MorphAnalyzer()"
   ]
  },
  {
   "cell_type": "code",
   "execution_count": 7,
   "id": "3143190b",
   "metadata": {},
   "outputs": [
    {
     "data": {
      "text/plain": [
       "776"
      ]
     },
     "execution_count": 7,
     "metadata": {},
     "output_type": "execute_result"
    }
   ],
   "source": [
    "with open('./stopwords.txt') as f:\n",
    "    additional_stopwords = [w.strip() for w in f.readlines() if w]\n",
    "stopword_ru += additional_stopwords\n",
    "len(stopword_ru)"
   ]
  },
  {
   "cell_type": "code",
   "execution_count": 8,
   "id": "dfc921d1",
   "metadata": {},
   "outputs": [],
   "source": [
    "def clean_text(text):\n",
    "    '''\n",
    "    очистка текста\n",
    "    \n",
    "    на выходе очищеный текст\n",
    "    \n",
    "    '''\n",
    "    if not isinstance(text, str):\n",
    "        text = str(text)\n",
    "    \n",
    "    text = text.lower()\n",
    "    text = text.strip('\\n').strip('\\r').strip('\\t')\n",
    "    text = re.sub(\"-\\s\\r\\n\\|-\\s\\r\\n|\\r\\n\", '', str(text))\n",
    "\n",
    "    text = re.sub(\"[0-9]|[-—.,:;_%©«»?*!@#№$^•·&()]|[+=]|[[]|[]]|[/]|\", '', text)\n",
    "    text = re.sub(r\"\\r\\n\\t|\\n|\\\\s|\\r\\t|\\\\n\", ' ', text)\n",
    "    text = re.sub(r'[\\xad]|[\\s+]', ' ', text.strip())\n",
    "    \n",
    "    return text\n",
    "\n",
    "cache = {}\n",
    "\n",
    "def lemmatization(text):\n",
    "    '''\n",
    "    лемматизация\n",
    "        [0] если зашел тип не `str` делаем его `str`\n",
    "        [1] токенизация предложения через razdel\n",
    "        [2] проверка есть ли в начале слова '-'\n",
    "        [3] проверка токена с одного символа\n",
    "        [4] проверка есть ли данное слово в кэше\n",
    "        [5] лемматизация слова\n",
    "        [6] проверка на стоп-слова\n",
    "\n",
    "    на выходе лист отлемматизированых токенов\n",
    "    '''\n",
    "\n",
    "    # [0]\n",
    "    if not isinstance(text, str):\n",
    "        text = str(text)\n",
    "    \n",
    "    # [1]\n",
    "    tokens = list(tokenize(text))\n",
    "    words = [_.text for _ in tokens]\n",
    "\n",
    "    words_lem = []\n",
    "    for w in words:\n",
    "        if w[0] == '-': # [2]\n",
    "            w = w[1:]\n",
    "        if len(w)>1: # [3]\n",
    "            if w in cache: # [4]\n",
    "                words_lem.append(cache[w])\n",
    "            else: # [5]\n",
    "                temp_cach = cache[w] = morph.parse(w)[0].normal_form\n",
    "                words_lem.append(temp_cach)\n",
    "    \n",
    "    words_lem_without_stopwords=[i for i in words_lem if not i in stopword_ru] # [6]\n",
    "    \n",
    "    return words_lem_without_stopwords"
   ]
  },
  {
   "cell_type": "code",
   "execution_count": 9,
   "id": "ef484acc",
   "metadata": {},
   "outputs": [
    {
     "name": "stderr",
     "output_type": "stream",
     "text": [
      "<ipython-input-8-2b1de38ed3a9>:15: FutureWarning: Possible nested set at position 39\n",
      "  text = re.sub(\"[0-9]|[-—.,:;_%©«»?*!@#№$^•·&()]|[+=]|[[]|[]]|[/]|\", '', text)\n"
     ]
    },
    {
     "name": "stdout",
     "output_type": "stream",
     "text": [
      "Wall time: 24.3 s\n"
     ]
    }
   ],
   "source": [
    "%%time\n",
    "#Запускаем очистку текста. Будет долго...\n",
    "news['title'] = news['title'].apply(lambda x: clean_text(x), 1)"
   ]
  },
  {
   "cell_type": "code",
   "execution_count": 10,
   "id": "b3f9d86e",
   "metadata": {},
   "outputs": [
    {
     "name": "stdout",
     "output_type": "stream",
     "text": [
      "Wall time: 3min 11s\n"
     ]
    }
   ],
   "source": [
    "%%time\n",
    "#Запускаем лемматизацию текста. Будет очень долго...\n",
    "news['title'] = news['title'].apply(lambda x: lemmatization(x), 1)"
   ]
  },
  {
   "cell_type": "code",
   "execution_count": 12,
   "id": "1824976a",
   "metadata": {},
   "outputs": [
    {
     "data": {
      "text/plain": [
       "0        [заместитель, председатель, правительство, рф,...\n",
       "1        [матч, финал, кубок, россия, футбол, приостано...\n",
       "2        [форвард, авангард, томаш, заборский, прокомме...\n",
       "3        [главный, тренер, кубань, юрий, красножанин, п...\n",
       "4        [решение, попечительский, совет, владивостокск...\n",
       "                               ...                        \n",
       "26995    [учёный, токийский, университет, морской, наук...\n",
       "26996    [глава, кафедра, отечественный, история, xx, в...\n",
       "26997    [американский, учёный, уточнить, возраст, расп...\n",
       "26998    [последний, год, тропический, углеродный, цикл...\n",
       "26999    [жить, примерно, тыс, год, назад, территория, ...\n",
       "Name: title, Length: 27000, dtype: object"
      ]
     },
     "execution_count": 12,
     "metadata": {},
     "output_type": "execute_result"
    }
   ],
   "source": [
    "news['title']"
   ]
  },
  {
   "cell_type": "code",
   "execution_count": 13,
   "id": "d600fe56",
   "metadata": {},
   "outputs": [],
   "source": [
    "#сформируем список наших текстов, разбив еще и на пробелы\n",
    "texts = [t for t in news['title'].values]\n",
    "common_dictionary = Dictionary(texts)\n",
    "common_corpus = [common_dictionary.doc2bow(text) for text in texts]"
   ]
  },
  {
   "cell_type": "code",
   "execution_count": 14,
   "id": "db777c9a",
   "metadata": {},
   "outputs": [],
   "source": [
    "from gensim.models import LdaModel"
   ]
  },
  {
   "cell_type": "code",
   "execution_count": 17,
   "id": "605c9227",
   "metadata": {},
   "outputs": [
    {
     "name": "stdout",
     "output_type": "stream",
     "text": [
      "Wall time: 27.2 s\n"
     ]
    }
   ],
   "source": [
    "%%time\n",
    "N_topic = 30\n",
    "lda = LdaModel(common_corpus, num_topics=25, id2word=common_dictionary)#, passes=10)"
   ]
  },
  {
   "cell_type": "code",
   "execution_count": 18,
   "id": "4a53c1f6",
   "metadata": {},
   "outputs": [],
   "source": [
    "from gensim.test.utils import datapath\n",
    "# Save model to disk.\n",
    "temp_file = datapath(\"model.lda\")\n",
    "lda.save(temp_file)\n",
    "\n",
    "# Load a potentially pretrained model from disk.\n",
    "lda = LdaModel.load(temp_file)"
   ]
  },
  {
   "cell_type": "code",
   "execution_count": 19,
   "id": "fa7881a4",
   "metadata": {},
   "outputs": [
    {
     "name": "stdout",
     "output_type": "stream",
     "text": [
      "['форвард', 'авангард', 'томаш', 'заборский', 'прокомментировать', 'игра', 'свой', 'команда', 'матч', 'чемпионат', 'кхл', 'против', 'атланта', 'nnnn', 'провести', 'плохой', 'матч', 'нижний', 'новгород', 'против', 'торпедо', 'настраиваться', 'первый', 'минута', 'включиться', 'работа', 'сказать', 'заборский', 'получиться', 'забросить', 'быстрый', 'гол', 'задать', 'хороший', 'темп', 'поединок', 'мочь', 'играть', 'ещё', 'хороший', 'сторона', 'пять', 'очко', 'выезд', 'девять', 'это', 'хороший']\n"
     ]
    },
    {
     "data": {
      "text/plain": [
       "[(3, 0.10360715),\n",
       " (5, 0.058270536),\n",
       " (7, 0.2717091),\n",
       " (8, 0.05074679),\n",
       " (15, 0.33628592),\n",
       " (16, 0.1055374),\n",
       " (23, 0.058051404)]"
      ]
     },
     "execution_count": 19,
     "metadata": {},
     "output_type": "execute_result"
    }
   ],
   "source": [
    "other_texts = [t for t in news['title'].iloc[:3]]\n",
    "other_corpus = [common_dictionary.doc2bow(text) for text in other_texts]\n",
    "\n",
    "unseen_doc = other_corpus[2]\n",
    "print(other_texts[2])\n",
    "lda[unseen_doc] "
   ]
  },
  {
   "cell_type": "code",
   "execution_count": 20,
   "id": "95f92042",
   "metadata": {},
   "outputs": [
    {
     "name": "stdout",
     "output_type": "stream",
     "text": [
      "topic_0: женщина тело мужчина обнаружить результат произойти который\n",
      "topic_1: год это который россия страна также новый\n",
      "topic_2: северный снижение южный корея американский сша лодка\n",
      "topic_3: перевод диск азербайджан армения столетие точнее шкала\n",
      "topic_4: ребёнок население общество сообщество проверка студент девочка\n",
      "topic_5: место год млн рейтинг составить высота ожидаться\n",
      "topic_6: медик индия концерн ирак делегация встречный добыть\n",
      "topic_7: это журнал мочь который весь статья большой\n",
      "topic_8: научный nn москва открытие район памятник городской\n",
      "topic_9: космос писать граница объект норма американский знаменитый\n",
      "topic_10: тур таиланд золото золотой куба мексика дания\n",
      "topic_11: офицер иран израиль кремль израильский зампред заведение\n",
      "topic_12: пенсия год превысить прогноз годовой собственность устойчивый\n",
      "topic_13: население парламент спасти бомба брюссель грузия вдвое\n",
      "topic_14: банк источник погибнуть человек сотрудник эксперимент который\n",
      "topic_15: статья иск ст бензин кость температура год\n",
      "topic_16: год это который человек nn мочь всё\n",
      "topic_17: год исследование nn наука россия сша военный\n",
      "topic_18: год млрд компания рубль рост цена тыс\n",
      "topic_19: поверхность смерть британский великобритания мальчик разместить лондон\n",
      "topic_20: год газ ракета фонд новый американский турция\n",
      "topic_21: товар писать авария автомобиль это сигнал пострадать\n",
      "topic_22: россия это который российский вопрос решение страна\n",
      "topic_23: украина это год который мочь свой украинский\n",
      "topic_24: пациент исследование лечение человек врач здоровье жизнь\n"
     ]
    }
   ],
   "source": [
    "x=lda.show_topics(num_topics=25, num_words=7,formatted=False)\n",
    "topics_words = [(tp[0], [wd[0] for wd in tp[1]]) for tp in x]\n",
    "\n",
    "#Below Code Prints Only Words \n",
    "for topic,words in topics_words:\n",
    "    print(\"topic_{}: \".format(topic)+\" \".join(words))"
   ]
  },
  {
   "cell_type": "code",
   "execution_count": 21,
   "id": "53512f2f",
   "metadata": {},
   "outputs": [],
   "source": [
    "def get_lda_vector(text):\n",
    "    unseen_doc = common_dictionary.doc2bow(text)\n",
    "    lda_tuple = lda[unseen_doc]\n",
    "    not_null_topics = dict(zip([i[0] for i in lda_tuple], [i[1] for i in lda_tuple]))\n",
    "\n",
    "    output_vector = []\n",
    "    for i in range(25):\n",
    "        if i not in not_null_topics:\n",
    "            output_vector.append(0)\n",
    "        else:\n",
    "            output_vector.append(not_null_topics[i])\n",
    "    return np.array(output_vector)"
   ]
  },
  {
   "cell_type": "code",
   "execution_count": 22,
   "id": "a3c4d692",
   "metadata": {},
   "outputs": [
    {
     "data": {
      "text/html": [
       "<div>\n",
       "<style scoped>\n",
       "    .dataframe tbody tr th:only-of-type {\n",
       "        vertical-align: middle;\n",
       "    }\n",
       "\n",
       "    .dataframe tbody tr th {\n",
       "        vertical-align: top;\n",
       "    }\n",
       "\n",
       "    .dataframe thead th {\n",
       "        text-align: right;\n",
       "    }\n",
       "</style>\n",
       "<table border=\"1\" class=\"dataframe\">\n",
       "  <thead>\n",
       "    <tr style=\"text-align: right;\">\n",
       "      <th></th>\n",
       "      <th>doc_id</th>\n",
       "      <th>topic_0</th>\n",
       "      <th>topic_1</th>\n",
       "      <th>topic_2</th>\n",
       "      <th>topic_3</th>\n",
       "      <th>topic_4</th>\n",
       "      <th>topic_5</th>\n",
       "      <th>topic_6</th>\n",
       "      <th>topic_7</th>\n",
       "      <th>topic_8</th>\n",
       "      <th>...</th>\n",
       "      <th>topic_15</th>\n",
       "      <th>topic_16</th>\n",
       "      <th>topic_17</th>\n",
       "      <th>topic_18</th>\n",
       "      <th>topic_19</th>\n",
       "      <th>topic_20</th>\n",
       "      <th>topic_21</th>\n",
       "      <th>topic_22</th>\n",
       "      <th>topic_23</th>\n",
       "      <th>topic_24</th>\n",
       "    </tr>\n",
       "  </thead>\n",
       "  <tbody>\n",
       "    <tr>\n",
       "      <th>0</th>\n",
       "      <td>6</td>\n",
       "      <td>0.000000</td>\n",
       "      <td>0.180707</td>\n",
       "      <td>0.0</td>\n",
       "      <td>0.000000</td>\n",
       "      <td>0.0</td>\n",
       "      <td>0.000000</td>\n",
       "      <td>0.0</td>\n",
       "      <td>0.000000</td>\n",
       "      <td>0.180001</td>\n",
       "      <td>...</td>\n",
       "      <td>0.000000</td>\n",
       "      <td>0.000000</td>\n",
       "      <td>0.000000</td>\n",
       "      <td>0.0</td>\n",
       "      <td>0.0</td>\n",
       "      <td>0.0</td>\n",
       "      <td>0.000000</td>\n",
       "      <td>0.139889</td>\n",
       "      <td>0.000000</td>\n",
       "      <td>0.480264</td>\n",
       "    </tr>\n",
       "    <tr>\n",
       "      <th>1</th>\n",
       "      <td>4896</td>\n",
       "      <td>0.336684</td>\n",
       "      <td>0.000000</td>\n",
       "      <td>0.0</td>\n",
       "      <td>0.200780</td>\n",
       "      <td>0.0</td>\n",
       "      <td>0.000000</td>\n",
       "      <td>0.0</td>\n",
       "      <td>0.000000</td>\n",
       "      <td>0.000000</td>\n",
       "      <td>...</td>\n",
       "      <td>0.000000</td>\n",
       "      <td>0.000000</td>\n",
       "      <td>0.000000</td>\n",
       "      <td>0.0</td>\n",
       "      <td>0.0</td>\n",
       "      <td>0.0</td>\n",
       "      <td>0.440525</td>\n",
       "      <td>0.000000</td>\n",
       "      <td>0.000000</td>\n",
       "      <td>0.000000</td>\n",
       "    </tr>\n",
       "    <tr>\n",
       "      <th>2</th>\n",
       "      <td>4897</td>\n",
       "      <td>0.000000</td>\n",
       "      <td>0.000000</td>\n",
       "      <td>0.0</td>\n",
       "      <td>0.103607</td>\n",
       "      <td>0.0</td>\n",
       "      <td>0.058275</td>\n",
       "      <td>0.0</td>\n",
       "      <td>0.271714</td>\n",
       "      <td>0.050746</td>\n",
       "      <td>...</td>\n",
       "      <td>0.336353</td>\n",
       "      <td>0.105728</td>\n",
       "      <td>0.000000</td>\n",
       "      <td>0.0</td>\n",
       "      <td>0.0</td>\n",
       "      <td>0.0</td>\n",
       "      <td>0.000000</td>\n",
       "      <td>0.000000</td>\n",
       "      <td>0.057785</td>\n",
       "      <td>0.000000</td>\n",
       "    </tr>\n",
       "    <tr>\n",
       "      <th>3</th>\n",
       "      <td>4898</td>\n",
       "      <td>0.000000</td>\n",
       "      <td>0.045018</td>\n",
       "      <td>0.0</td>\n",
       "      <td>0.028728</td>\n",
       "      <td>0.0</td>\n",
       "      <td>0.000000</td>\n",
       "      <td>0.0</td>\n",
       "      <td>0.643296</td>\n",
       "      <td>0.000000</td>\n",
       "      <td>...</td>\n",
       "      <td>0.000000</td>\n",
       "      <td>0.000000</td>\n",
       "      <td>0.000000</td>\n",
       "      <td>0.0</td>\n",
       "      <td>0.0</td>\n",
       "      <td>0.0</td>\n",
       "      <td>0.000000</td>\n",
       "      <td>0.000000</td>\n",
       "      <td>0.112781</td>\n",
       "      <td>0.000000</td>\n",
       "    </tr>\n",
       "    <tr>\n",
       "      <th>4</th>\n",
       "      <td>4899</td>\n",
       "      <td>0.000000</td>\n",
       "      <td>0.106487</td>\n",
       "      <td>0.0</td>\n",
       "      <td>0.052967</td>\n",
       "      <td>0.0</td>\n",
       "      <td>0.000000</td>\n",
       "      <td>0.0</td>\n",
       "      <td>0.000000</td>\n",
       "      <td>0.000000</td>\n",
       "      <td>...</td>\n",
       "      <td>0.089742</td>\n",
       "      <td>0.000000</td>\n",
       "      <td>0.239212</td>\n",
       "      <td>0.0</td>\n",
       "      <td>0.0</td>\n",
       "      <td>0.0</td>\n",
       "      <td>0.000000</td>\n",
       "      <td>0.115683</td>\n",
       "      <td>0.000000</td>\n",
       "      <td>0.374152</td>\n",
       "    </tr>\n",
       "  </tbody>\n",
       "</table>\n",
       "<p>5 rows × 26 columns</p>\n",
       "</div>"
      ],
      "text/plain": [
       "   doc_id   topic_0   topic_1  topic_2   topic_3  topic_4   topic_5  topic_6  \\\n",
       "0       6  0.000000  0.180707      0.0  0.000000      0.0  0.000000      0.0   \n",
       "1    4896  0.336684  0.000000      0.0  0.200780      0.0  0.000000      0.0   \n",
       "2    4897  0.000000  0.000000      0.0  0.103607      0.0  0.058275      0.0   \n",
       "3    4898  0.000000  0.045018      0.0  0.028728      0.0  0.000000      0.0   \n",
       "4    4899  0.000000  0.106487      0.0  0.052967      0.0  0.000000      0.0   \n",
       "\n",
       "    topic_7   topic_8  ...  topic_15  topic_16  topic_17  topic_18  topic_19  \\\n",
       "0  0.000000  0.180001  ...  0.000000  0.000000  0.000000       0.0       0.0   \n",
       "1  0.000000  0.000000  ...  0.000000  0.000000  0.000000       0.0       0.0   \n",
       "2  0.271714  0.050746  ...  0.336353  0.105728  0.000000       0.0       0.0   \n",
       "3  0.643296  0.000000  ...  0.000000  0.000000  0.000000       0.0       0.0   \n",
       "4  0.000000  0.000000  ...  0.089742  0.000000  0.239212       0.0       0.0   \n",
       "\n",
       "   topic_20  topic_21  topic_22  topic_23  topic_24  \n",
       "0       0.0  0.000000  0.139889  0.000000  0.480264  \n",
       "1       0.0  0.440525  0.000000  0.000000  0.000000  \n",
       "2       0.0  0.000000  0.000000  0.057785  0.000000  \n",
       "3       0.0  0.000000  0.000000  0.112781  0.000000  \n",
       "4       0.0  0.000000  0.115683  0.000000  0.374152  \n",
       "\n",
       "[5 rows x 26 columns]"
      ]
     },
     "execution_count": 22,
     "metadata": {},
     "output_type": "execute_result"
    }
   ],
   "source": [
    "topic_matrix = pd.DataFrame([get_lda_vector(text) for text in news['title'].values])\n",
    "topic_matrix.columns = ['topic_{}'.format(i) for i in range(25)]\n",
    "topic_matrix['doc_id'] = news['doc_id'].values\n",
    "topic_matrix = topic_matrix[['doc_id']+['topic_{}'.format(i) for i in range(25)]]\n",
    "topic_matrix.head(5)"
   ]
  },
  {
   "cell_type": "code",
   "execution_count": 23,
   "id": "5826d649",
   "metadata": {},
   "outputs": [],
   "source": [
    "doc_dict = dict(zip(topic_matrix['doc_id'].values, topic_matrix[['topic_{}'.format(i) for i in range(25)]].values))"
   ]
  },
  {
   "cell_type": "code",
   "execution_count": 24,
   "id": "f117affc",
   "metadata": {},
   "outputs": [
    {
     "data": {
      "text/plain": [
       "array([0.04872665, 0.19505944, 0.        , 0.00339975, 0.01168071,\n",
       "       0.00758864, 0.        , 0.02209016, 0.        , 0.0361097 ,\n",
       "       0.00891656, 0.01266039, 0.        , 0.01296018, 0.03954194,\n",
       "       0.        , 0.0896359 , 0.17046377, 0.00953097, 0.        ,\n",
       "       0.02753638, 0.00298838, 0.20174467, 0.08331481, 0.00557822])"
      ]
     },
     "execution_count": 24,
     "metadata": {},
     "output_type": "execute_result"
    }
   ],
   "source": [
    "user_articles_list = users['articles'].iloc[33]\n",
    "\n",
    "def get_user_embedding(user_articles_list):\n",
    "    user_articles_list = eval(user_articles_list)\n",
    "    user_vector = np.array([doc_dict[doc_id] for doc_id in user_articles_list])\n",
    "    user_vector = np.mean(user_vector, 0)\n",
    "    return user_vector\n",
    "get_user_embedding(user_articles_list)"
   ]
  },
  {
   "cell_type": "code",
   "execution_count": 25,
   "id": "79a91335",
   "metadata": {},
   "outputs": [
    {
     "data": {
      "text/html": [
       "<div>\n",
       "<style scoped>\n",
       "    .dataframe tbody tr th:only-of-type {\n",
       "        vertical-align: middle;\n",
       "    }\n",
       "\n",
       "    .dataframe tbody tr th {\n",
       "        vertical-align: top;\n",
       "    }\n",
       "\n",
       "    .dataframe thead th {\n",
       "        text-align: right;\n",
       "    }\n",
       "</style>\n",
       "<table border=\"1\" class=\"dataframe\">\n",
       "  <thead>\n",
       "    <tr style=\"text-align: right;\">\n",
       "      <th></th>\n",
       "      <th>uid</th>\n",
       "      <th>topic_0</th>\n",
       "      <th>topic_1</th>\n",
       "      <th>topic_2</th>\n",
       "      <th>topic_3</th>\n",
       "      <th>topic_4</th>\n",
       "      <th>topic_5</th>\n",
       "      <th>topic_6</th>\n",
       "      <th>topic_7</th>\n",
       "      <th>topic_8</th>\n",
       "      <th>...</th>\n",
       "      <th>topic_15</th>\n",
       "      <th>topic_16</th>\n",
       "      <th>topic_17</th>\n",
       "      <th>topic_18</th>\n",
       "      <th>topic_19</th>\n",
       "      <th>topic_20</th>\n",
       "      <th>topic_21</th>\n",
       "      <th>topic_22</th>\n",
       "      <th>topic_23</th>\n",
       "      <th>topic_24</th>\n",
       "    </tr>\n",
       "  </thead>\n",
       "  <tbody>\n",
       "    <tr>\n",
       "      <th>0</th>\n",
       "      <td>u105138</td>\n",
       "      <td>0.061821</td>\n",
       "      <td>0.147959</td>\n",
       "      <td>0.0</td>\n",
       "      <td>0.000000</td>\n",
       "      <td>0.036324</td>\n",
       "      <td>0.009627</td>\n",
       "      <td>0.000000</td>\n",
       "      <td>0.010531</td>\n",
       "      <td>0.089347</td>\n",
       "      <td>...</td>\n",
       "      <td>0.003502</td>\n",
       "      <td>0.053966</td>\n",
       "      <td>0.061467</td>\n",
       "      <td>0.043099</td>\n",
       "      <td>0.000000</td>\n",
       "      <td>0.080133</td>\n",
       "      <td>0.019721</td>\n",
       "      <td>0.089146</td>\n",
       "      <td>0.179463</td>\n",
       "      <td>0.044092</td>\n",
       "    </tr>\n",
       "    <tr>\n",
       "      <th>1</th>\n",
       "      <td>u108690</td>\n",
       "      <td>0.033169</td>\n",
       "      <td>0.194430</td>\n",
       "      <td>0.0</td>\n",
       "      <td>0.001727</td>\n",
       "      <td>0.026455</td>\n",
       "      <td>0.004561</td>\n",
       "      <td>0.004129</td>\n",
       "      <td>0.031948</td>\n",
       "      <td>0.002070</td>\n",
       "      <td>...</td>\n",
       "      <td>0.008611</td>\n",
       "      <td>0.123165</td>\n",
       "      <td>0.078562</td>\n",
       "      <td>0.019266</td>\n",
       "      <td>0.002953</td>\n",
       "      <td>0.000000</td>\n",
       "      <td>0.015420</td>\n",
       "      <td>0.177038</td>\n",
       "      <td>0.202891</td>\n",
       "      <td>0.013068</td>\n",
       "    </tr>\n",
       "    <tr>\n",
       "      <th>2</th>\n",
       "      <td>u108339</td>\n",
       "      <td>0.091038</td>\n",
       "      <td>0.298388</td>\n",
       "      <td>0.0</td>\n",
       "      <td>0.000000</td>\n",
       "      <td>0.007356</td>\n",
       "      <td>0.006826</td>\n",
       "      <td>0.000000</td>\n",
       "      <td>0.019224</td>\n",
       "      <td>0.031793</td>\n",
       "      <td>...</td>\n",
       "      <td>0.004066</td>\n",
       "      <td>0.024572</td>\n",
       "      <td>0.076621</td>\n",
       "      <td>0.035130</td>\n",
       "      <td>0.008493</td>\n",
       "      <td>0.012148</td>\n",
       "      <td>0.026233</td>\n",
       "      <td>0.132227</td>\n",
       "      <td>0.097586</td>\n",
       "      <td>0.024903</td>\n",
       "    </tr>\n",
       "  </tbody>\n",
       "</table>\n",
       "<p>3 rows × 26 columns</p>\n",
       "</div>"
      ],
      "text/plain": [
       "       uid   topic_0   topic_1  topic_2   topic_3   topic_4   topic_5  \\\n",
       "0  u105138  0.061821  0.147959      0.0  0.000000  0.036324  0.009627   \n",
       "1  u108690  0.033169  0.194430      0.0  0.001727  0.026455  0.004561   \n",
       "2  u108339  0.091038  0.298388      0.0  0.000000  0.007356  0.006826   \n",
       "\n",
       "    topic_6   topic_7   topic_8  ...  topic_15  topic_16  topic_17  topic_18  \\\n",
       "0  0.000000  0.010531  0.089347  ...  0.003502  0.053966  0.061467  0.043099   \n",
       "1  0.004129  0.031948  0.002070  ...  0.008611  0.123165  0.078562  0.019266   \n",
       "2  0.000000  0.019224  0.031793  ...  0.004066  0.024572  0.076621  0.035130   \n",
       "\n",
       "   topic_19  topic_20  topic_21  topic_22  topic_23  topic_24  \n",
       "0  0.000000  0.080133  0.019721  0.089146  0.179463  0.044092  \n",
       "1  0.002953  0.000000  0.015420  0.177038  0.202891  0.013068  \n",
       "2  0.008493  0.012148  0.026233  0.132227  0.097586  0.024903  \n",
       "\n",
       "[3 rows x 26 columns]"
      ]
     },
     "execution_count": 25,
     "metadata": {},
     "output_type": "execute_result"
    }
   ],
   "source": [
    "user_embeddings = pd.DataFrame([i for i in users['articles'].apply(lambda x: get_user_embedding(x), 1)])\n",
    "user_embeddings.columns = ['topic_{}'.format(i) for i in range(25)]\n",
    "user_embeddings['uid'] = users['uid'].values\n",
    "user_embeddings = user_embeddings[['uid']+['topic_{}'.format(i) for i in range(25)]]\n",
    "user_embeddings.head(3)"
   ]
  },
  {
   "cell_type": "code",
   "execution_count": 26,
   "id": "befd9b0a",
   "metadata": {},
   "outputs": [
    {
     "data": {
      "text/html": [
       "<div>\n",
       "<style scoped>\n",
       "    .dataframe tbody tr th:only-of-type {\n",
       "        vertical-align: middle;\n",
       "    }\n",
       "\n",
       "    .dataframe tbody tr th {\n",
       "        vertical-align: top;\n",
       "    }\n",
       "\n",
       "    .dataframe thead th {\n",
       "        text-align: right;\n",
       "    }\n",
       "</style>\n",
       "<table border=\"1\" class=\"dataframe\">\n",
       "  <thead>\n",
       "    <tr style=\"text-align: right;\">\n",
       "      <th></th>\n",
       "      <th>uid</th>\n",
       "      <th>churn</th>\n",
       "    </tr>\n",
       "  </thead>\n",
       "  <tbody>\n",
       "    <tr>\n",
       "      <th>0</th>\n",
       "      <td>u107120</td>\n",
       "      <td>0</td>\n",
       "    </tr>\n",
       "    <tr>\n",
       "      <th>1</th>\n",
       "      <td>u102277</td>\n",
       "      <td>0</td>\n",
       "    </tr>\n",
       "    <tr>\n",
       "      <th>2</th>\n",
       "      <td>u102444</td>\n",
       "      <td>0</td>\n",
       "    </tr>\n",
       "  </tbody>\n",
       "</table>\n",
       "</div>"
      ],
      "text/plain": [
       "       uid  churn\n",
       "0  u107120      0\n",
       "1  u102277      0\n",
       "2  u102444      0"
      ]
     },
     "execution_count": 26,
     "metadata": {},
     "output_type": "execute_result"
    }
   ],
   "source": [
    "target = pd.read_csv(\"./users_churn.csv\")\n",
    "target.head(3)"
   ]
  },
  {
   "cell_type": "code",
   "execution_count": 27,
   "id": "bbe8940a",
   "metadata": {},
   "outputs": [
    {
     "data": {
      "text/html": [
       "<div>\n",
       "<style scoped>\n",
       "    .dataframe tbody tr th:only-of-type {\n",
       "        vertical-align: middle;\n",
       "    }\n",
       "\n",
       "    .dataframe tbody tr th {\n",
       "        vertical-align: top;\n",
       "    }\n",
       "\n",
       "    .dataframe thead th {\n",
       "        text-align: right;\n",
       "    }\n",
       "</style>\n",
       "<table border=\"1\" class=\"dataframe\">\n",
       "  <thead>\n",
       "    <tr style=\"text-align: right;\">\n",
       "      <th></th>\n",
       "      <th>uid</th>\n",
       "      <th>topic_0</th>\n",
       "      <th>topic_1</th>\n",
       "      <th>topic_2</th>\n",
       "      <th>topic_3</th>\n",
       "      <th>topic_4</th>\n",
       "      <th>topic_5</th>\n",
       "      <th>topic_6</th>\n",
       "      <th>topic_7</th>\n",
       "      <th>topic_8</th>\n",
       "      <th>...</th>\n",
       "      <th>topic_16</th>\n",
       "      <th>topic_17</th>\n",
       "      <th>topic_18</th>\n",
       "      <th>topic_19</th>\n",
       "      <th>topic_20</th>\n",
       "      <th>topic_21</th>\n",
       "      <th>topic_22</th>\n",
       "      <th>topic_23</th>\n",
       "      <th>topic_24</th>\n",
       "      <th>churn</th>\n",
       "    </tr>\n",
       "  </thead>\n",
       "  <tbody>\n",
       "    <tr>\n",
       "      <th>0</th>\n",
       "      <td>u105138</td>\n",
       "      <td>0.061821</td>\n",
       "      <td>0.147959</td>\n",
       "      <td>0.0</td>\n",
       "      <td>0.000000</td>\n",
       "      <td>0.036324</td>\n",
       "      <td>0.009627</td>\n",
       "      <td>0.000000</td>\n",
       "      <td>0.010531</td>\n",
       "      <td>0.089347</td>\n",
       "      <td>...</td>\n",
       "      <td>0.053966</td>\n",
       "      <td>0.061467</td>\n",
       "      <td>0.043099</td>\n",
       "      <td>0.000000</td>\n",
       "      <td>0.080133</td>\n",
       "      <td>0.019721</td>\n",
       "      <td>0.089146</td>\n",
       "      <td>0.179463</td>\n",
       "      <td>0.044092</td>\n",
       "      <td>0</td>\n",
       "    </tr>\n",
       "    <tr>\n",
       "      <th>1</th>\n",
       "      <td>u108690</td>\n",
       "      <td>0.033169</td>\n",
       "      <td>0.194430</td>\n",
       "      <td>0.0</td>\n",
       "      <td>0.001727</td>\n",
       "      <td>0.026455</td>\n",
       "      <td>0.004561</td>\n",
       "      <td>0.004129</td>\n",
       "      <td>0.031948</td>\n",
       "      <td>0.002070</td>\n",
       "      <td>...</td>\n",
       "      <td>0.123165</td>\n",
       "      <td>0.078562</td>\n",
       "      <td>0.019266</td>\n",
       "      <td>0.002953</td>\n",
       "      <td>0.000000</td>\n",
       "      <td>0.015420</td>\n",
       "      <td>0.177038</td>\n",
       "      <td>0.202891</td>\n",
       "      <td>0.013068</td>\n",
       "      <td>1</td>\n",
       "    </tr>\n",
       "    <tr>\n",
       "      <th>2</th>\n",
       "      <td>u108339</td>\n",
       "      <td>0.091038</td>\n",
       "      <td>0.298388</td>\n",
       "      <td>0.0</td>\n",
       "      <td>0.000000</td>\n",
       "      <td>0.007356</td>\n",
       "      <td>0.006826</td>\n",
       "      <td>0.000000</td>\n",
       "      <td>0.019224</td>\n",
       "      <td>0.031793</td>\n",
       "      <td>...</td>\n",
       "      <td>0.024572</td>\n",
       "      <td>0.076621</td>\n",
       "      <td>0.035130</td>\n",
       "      <td>0.008493</td>\n",
       "      <td>0.012148</td>\n",
       "      <td>0.026233</td>\n",
       "      <td>0.132227</td>\n",
       "      <td>0.097586</td>\n",
       "      <td>0.024903</td>\n",
       "      <td>1</td>\n",
       "    </tr>\n",
       "  </tbody>\n",
       "</table>\n",
       "<p>3 rows × 27 columns</p>\n",
       "</div>"
      ],
      "text/plain": [
       "       uid   topic_0   topic_1  topic_2   topic_3   topic_4   topic_5  \\\n",
       "0  u105138  0.061821  0.147959      0.0  0.000000  0.036324  0.009627   \n",
       "1  u108690  0.033169  0.194430      0.0  0.001727  0.026455  0.004561   \n",
       "2  u108339  0.091038  0.298388      0.0  0.000000  0.007356  0.006826   \n",
       "\n",
       "    topic_6   topic_7   topic_8  ...  topic_16  topic_17  topic_18  topic_19  \\\n",
       "0  0.000000  0.010531  0.089347  ...  0.053966  0.061467  0.043099  0.000000   \n",
       "1  0.004129  0.031948  0.002070  ...  0.123165  0.078562  0.019266  0.002953   \n",
       "2  0.000000  0.019224  0.031793  ...  0.024572  0.076621  0.035130  0.008493   \n",
       "\n",
       "   topic_20  topic_21  topic_22  topic_23  topic_24  churn  \n",
       "0  0.080133  0.019721  0.089146  0.179463  0.044092      0  \n",
       "1  0.000000  0.015420  0.177038  0.202891  0.013068      1  \n",
       "2  0.012148  0.026233  0.132227  0.097586  0.024903      1  \n",
       "\n",
       "[3 rows x 27 columns]"
      ]
     },
     "execution_count": 27,
     "metadata": {},
     "output_type": "execute_result"
    }
   ],
   "source": [
    "X = pd.merge(user_embeddings, target, 'left')\n",
    "X.head(3)"
   ]
  },
  {
   "cell_type": "code",
   "execution_count": 28,
   "id": "11f5f043",
   "metadata": {},
   "outputs": [],
   "source": [
    "from sklearn.linear_model import LogisticRegression\n",
    "from sklearn.model_selection import train_test_split\n",
    "import itertools\n",
    "\n",
    "import matplotlib.pyplot as plt\n",
    "\n",
    "%matplotlib inline"
   ]
  },
  {
   "cell_type": "code",
   "execution_count": 29,
   "id": "842d3342",
   "metadata": {},
   "outputs": [],
   "source": [
    "X_train, X_test, y_train, y_test = train_test_split(X[['topic_{}'.format(i) for i in range(25)]], \n",
    "                                                    X['churn'], random_state=0)"
   ]
  },
  {
   "cell_type": "code",
   "execution_count": 30,
   "id": "e8f88523",
   "metadata": {},
   "outputs": [
    {
     "data": {
      "text/plain": [
       "LogisticRegression()"
      ]
     },
     "execution_count": 30,
     "metadata": {},
     "output_type": "execute_result"
    }
   ],
   "source": [
    "logreg = LogisticRegression()\n",
    "#обучим \n",
    "logreg.fit(X_train, y_train)"
   ]
  },
  {
   "cell_type": "code",
   "execution_count": 31,
   "id": "c13d9161",
   "metadata": {},
   "outputs": [
    {
     "data": {
      "text/plain": [
       "array([0.10136455, 0.10364832, 0.24734449, 0.19109366, 0.05118298,\n",
       "       0.07424887, 0.31975314, 0.05234184, 0.09881955, 0.11785071])"
      ]
     },
     "execution_count": 31,
     "metadata": {},
     "output_type": "execute_result"
    }
   ],
   "source": [
    "preds = logreg.predict_proba(X_test)[:, 1]\n",
    "preds[:10]"
   ]
  },
  {
   "cell_type": "code",
   "execution_count": 32,
   "id": "4f0aca92",
   "metadata": {},
   "outputs": [],
   "source": [
    "from sklearn.metrics import f1_score, roc_auc_score, precision_score, classification_report, precision_recall_curve, confusion_matrix"
   ]
  },
  {
   "cell_type": "code",
   "execution_count": 33,
   "id": "14921438",
   "metadata": {},
   "outputs": [
    {
     "name": "stdout",
     "output_type": "stream",
     "text": [
      "Best Threshold=0.255059, F-Score=0.644, Precision=0.595, Recall=0.702\n"
     ]
    }
   ],
   "source": [
    "precision, recall, thresholds = precision_recall_curve(y_test, preds)\n",
    "fscore = (2 * precision * recall) / (precision + recall)\n",
    "# locate the index of the largest f score\n",
    "ix = np.argmax(fscore)\n",
    "print('Best Threshold=%f, F-Score=%.3f, Precision=%.3f, Recall=%.3f' % (thresholds[ix], \n",
    "                                                                        fscore[ix],\n",
    "                                                                        precision[ix],\n",
    "                                                                        recall[ix]))"
   ]
  },
  {
   "cell_type": "code",
   "execution_count": 34,
   "id": "8caa8edf",
   "metadata": {},
   "outputs": [],
   "source": [
    "def plot_confusion_matrix(cm, classes,\n",
    "                          normalize=False,\n",
    "                          title='Confusion matrix',\n",
    "                          cmap=plt.cm.Blues):\n",
    "    \"\"\"\n",
    "    This function prints and plots the confusion matrix.\n",
    "    Normalization can be applied by setting `normalize=True`.\n",
    "    \"\"\"\n",
    "    plt.imshow(cm, interpolation='nearest', cmap=cmap)\n",
    "    plt.title(title)\n",
    "    plt.colorbar()\n",
    "    tick_marks = np.arange(len(classes))\n",
    "    plt.xticks(tick_marks, classes, rotation=45)\n",
    "    plt.yticks(tick_marks, classes)\n",
    "\n",
    "    if normalize:\n",
    "        cm = cm.astype('float') / cm.sum(axis=1)[:, np.newaxis]\n",
    "        print(\"Normalized confusion matrix\")\n",
    "    else:\n",
    "        print('Confusion matrix, without normalization')\n",
    "\n",
    "    print(cm)\n",
    "\n",
    "    thresh = cm.max() / 2.\n",
    "    for i, j in itertools.product(range(cm.shape[0]), range(cm.shape[1])):\n",
    "        plt.text(j, i, cm[i, j],\n",
    "                 horizontalalignment=\"center\",\n",
    "                 color=\"white\" if cm[i, j] > thresh else \"black\")\n",
    "\n",
    "    plt.tight_layout()\n",
    "    plt.ylabel('True label')\n",
    "    plt.xlabel('Predicted label')"
   ]
  },
  {
   "cell_type": "code",
   "execution_count": 35,
   "id": "3bea5966",
   "metadata": {},
   "outputs": [
    {
     "name": "stdout",
     "output_type": "stream",
     "text": [
      "Confusion matrix, without normalization\n",
      "[[1638  117]\n",
      " [  74  171]]\n"
     ]
    },
    {
     "data": {
      "image/png": "[encoded data removed]",
      "text/plain": [
       "<Figure size 720x576 with 2 Axes>"
      ]
     },
     "metadata": {
      "needs_background": "light"
     },
     "output_type": "display_data"
    }
   ],
   "source": [
    "font = {'size' : 15}\n",
    "\n",
    "plt.rc('font', **font)\n",
    "\n",
    "cnf_matrix = confusion_matrix(y_test, preds>thresholds[ix])\n",
    "plt.figure(figsize=(10, 8))\n",
    "plot_confusion_matrix(cnf_matrix, classes=['Non-Churn', 'churn'],\n",
    "                      title='Confusion matrix')\n",
    "plt.savefig(\"conf_matrix.png\")\n",
    "plt.show()"
   ]
  },
  {
   "cell_type": "code",
   "execution_count": 36,
   "id": "ac7c3ddc",
   "metadata": {},
   "outputs": [
    {
     "data": {
      "text/plain": [
       "0.9315913715913716"
      ]
     },
     "execution_count": 36,
     "metadata": {},
     "output_type": "execute_result"
    }
   ],
   "source": [
    "roc_auc_score(y_test, preds)"
   ]
  },
  {
   "cell_type": "markdown",
   "id": "4c73fcbc",
   "metadata": {},
   "source": [
    "Модифицировать код функции get_user_embedding таким образом, чтобы считалось не среднее (как в примере np.mean), а медиана. Применить такое преобразование к данным, обучить модель прогнозирования оттока и посчитать метрики качества и сохранить их: roc auc, precision/recall/f_score (для 3 последних - подобрать оптимальный порог)"
   ]
  },
  {
   "cell_type": "code",
   "execution_count": 37,
   "id": "a0a343a7",
   "metadata": {},
   "outputs": [],
   "source": [
    "def get_user_embedding_M(user_articles_list):\n",
    "    user_articles_list = eval(user_articles_list)\n",
    "    user_vector = np.array([doc_dict[doc_id] for doc_id in user_articles_list])\n",
    "    user_vector = np.median(user_vector, 0)\n",
    "    return user_vector"
   ]
  },
  {
   "cell_type": "code",
   "execution_count": 38,
   "id": "b33262ea",
   "metadata": {},
   "outputs": [
    {
     "data": {
      "text/plain": [
       "array([0.        , 0.19977373, 0.        , 0.        , 0.        ,\n",
       "       0.        , 0.        , 0.        , 0.        , 0.00526796,\n",
       "       0.        , 0.        , 0.        , 0.        , 0.        ,\n",
       "       0.        , 0.        , 0.10907241, 0.        , 0.        ,\n",
       "       0.        , 0.        , 0.14823294, 0.0815061 , 0.        ])"
      ]
     },
     "execution_count": 38,
     "metadata": {},
     "output_type": "execute_result"
    }
   ],
   "source": [
    "get_user_embedding_M(user_articles_list)"
   ]
  },
  {
   "cell_type": "code",
   "execution_count": 39,
   "id": "faf64d97",
   "metadata": {},
   "outputs": [
    {
     "data": {
      "text/html": [
       "<div>\n",
       "<style scoped>\n",
       "    .dataframe tbody tr th:only-of-type {\n",
       "        vertical-align: middle;\n",
       "    }\n",
       "\n",
       "    .dataframe tbody tr th {\n",
       "        vertical-align: top;\n",
       "    }\n",
       "\n",
       "    .dataframe thead th {\n",
       "        text-align: right;\n",
       "    }\n",
       "</style>\n",
       "<table border=\"1\" class=\"dataframe\">\n",
       "  <thead>\n",
       "    <tr style=\"text-align: right;\">\n",
       "      <th></th>\n",
       "      <th>uid</th>\n",
       "      <th>topic_0</th>\n",
       "      <th>topic_1</th>\n",
       "      <th>topic_2</th>\n",
       "      <th>topic_3</th>\n",
       "      <th>topic_4</th>\n",
       "      <th>topic_5</th>\n",
       "      <th>topic_6</th>\n",
       "      <th>topic_7</th>\n",
       "      <th>topic_8</th>\n",
       "      <th>...</th>\n",
       "      <th>topic_15</th>\n",
       "      <th>topic_16</th>\n",
       "      <th>topic_17</th>\n",
       "      <th>topic_18</th>\n",
       "      <th>topic_19</th>\n",
       "      <th>topic_20</th>\n",
       "      <th>topic_21</th>\n",
       "      <th>topic_22</th>\n",
       "      <th>topic_23</th>\n",
       "      <th>topic_24</th>\n",
       "    </tr>\n",
       "  </thead>\n",
       "  <tbody>\n",
       "    <tr>\n",
       "      <th>0</th>\n",
       "      <td>u105138</td>\n",
       "      <td>0.059501</td>\n",
       "      <td>0.128800</td>\n",
       "      <td>0.0</td>\n",
       "      <td>0.0</td>\n",
       "      <td>0.005758</td>\n",
       "      <td>0.0</td>\n",
       "      <td>0.0</td>\n",
       "      <td>0.000000</td>\n",
       "      <td>0.057816</td>\n",
       "      <td>...</td>\n",
       "      <td>0.000000</td>\n",
       "      <td>0.010227</td>\n",
       "      <td>0.000000</td>\n",
       "      <td>0.000000</td>\n",
       "      <td>0.0</td>\n",
       "      <td>0.0</td>\n",
       "      <td>0.000000</td>\n",
       "      <td>0.061316</td>\n",
       "      <td>0.038984</td>\n",
       "      <td>0.021289</td>\n",
       "    </tr>\n",
       "    <tr>\n",
       "      <th>1</th>\n",
       "      <td>u108690</td>\n",
       "      <td>0.000000</td>\n",
       "      <td>0.175763</td>\n",
       "      <td>0.0</td>\n",
       "      <td>0.0</td>\n",
       "      <td>0.008816</td>\n",
       "      <td>0.0</td>\n",
       "      <td>0.0</td>\n",
       "      <td>0.014527</td>\n",
       "      <td>0.000000</td>\n",
       "      <td>...</td>\n",
       "      <td>0.007339</td>\n",
       "      <td>0.140998</td>\n",
       "      <td>0.074987</td>\n",
       "      <td>0.000000</td>\n",
       "      <td>0.0</td>\n",
       "      <td>0.0</td>\n",
       "      <td>0.000000</td>\n",
       "      <td>0.177603</td>\n",
       "      <td>0.204821</td>\n",
       "      <td>0.000000</td>\n",
       "    </tr>\n",
       "    <tr>\n",
       "      <th>2</th>\n",
       "      <td>u108339</td>\n",
       "      <td>0.079291</td>\n",
       "      <td>0.241106</td>\n",
       "      <td>0.0</td>\n",
       "      <td>0.0</td>\n",
       "      <td>0.000000</td>\n",
       "      <td>0.0</td>\n",
       "      <td>0.0</td>\n",
       "      <td>0.006278</td>\n",
       "      <td>0.006996</td>\n",
       "      <td>...</td>\n",
       "      <td>0.000000</td>\n",
       "      <td>0.022567</td>\n",
       "      <td>0.073753</td>\n",
       "      <td>0.012618</td>\n",
       "      <td>0.0</td>\n",
       "      <td>0.0</td>\n",
       "      <td>0.021801</td>\n",
       "      <td>0.131704</td>\n",
       "      <td>0.084984</td>\n",
       "      <td>0.025118</td>\n",
       "    </tr>\n",
       "  </tbody>\n",
       "</table>\n",
       "<p>3 rows × 26 columns</p>\n",
       "</div>"
      ],
      "text/plain": [
       "       uid   topic_0   topic_1  topic_2  topic_3   topic_4  topic_5  topic_6  \\\n",
       "0  u105138  0.059501  0.128800      0.0      0.0  0.005758      0.0      0.0   \n",
       "1  u108690  0.000000  0.175763      0.0      0.0  0.008816      0.0      0.0   \n",
       "2  u108339  0.079291  0.241106      0.0      0.0  0.000000      0.0      0.0   \n",
       "\n",
       "    topic_7   topic_8  ...  topic_15  topic_16  topic_17  topic_18  topic_19  \\\n",
       "0  0.000000  0.057816  ...  0.000000  0.010227  0.000000  0.000000       0.0   \n",
       "1  0.014527  0.000000  ...  0.007339  0.140998  0.074987  0.000000       0.0   \n",
       "2  0.006278  0.006996  ...  0.000000  0.022567  0.073753  0.012618       0.0   \n",
       "\n",
       "   topic_20  topic_21  topic_22  topic_23  topic_24  \n",
       "0       0.0  0.000000  0.061316  0.038984  0.021289  \n",
       "1       0.0  0.000000  0.177603  0.204821  0.000000  \n",
       "2       0.0  0.021801  0.131704  0.084984  0.025118  \n",
       "\n",
       "[3 rows x 26 columns]"
      ]
     },
     "execution_count": 39,
     "metadata": {},
     "output_type": "execute_result"
    }
   ],
   "source": [
    "user_embeddings1 = pd.DataFrame([i for i in users['articles'].apply(lambda x: get_user_embedding_M(x), 1)])\n",
    "user_embeddings1.columns = ['topic_{}'.format(i) for i in range(25)]\n",
    "user_embeddings1['uid'] = users['uid'].values\n",
    "user_embeddings1 = user_embeddings1[['uid']+['topic_{}'.format(i) for i in range(25)]]\n",
    "user_embeddings1.head(3)"
   ]
  },
  {
   "cell_type": "code",
   "execution_count": 40,
   "id": "d2e5aa3c",
   "metadata": {},
   "outputs": [
    {
     "data": {
      "text/html": [
       "<div>\n",
       "<style scoped>\n",
       "    .dataframe tbody tr th:only-of-type {\n",
       "        vertical-align: middle;\n",
       "    }\n",
       "\n",
       "    .dataframe tbody tr th {\n",
       "        vertical-align: top;\n",
       "    }\n",
       "\n",
       "    .dataframe thead th {\n",
       "        text-align: right;\n",
       "    }\n",
       "</style>\n",
       "<table border=\"1\" class=\"dataframe\">\n",
       "  <thead>\n",
       "    <tr style=\"text-align: right;\">\n",
       "      <th></th>\n",
       "      <th>uid</th>\n",
       "      <th>topic_0</th>\n",
       "      <th>topic_1</th>\n",
       "      <th>topic_2</th>\n",
       "      <th>topic_3</th>\n",
       "      <th>topic_4</th>\n",
       "      <th>topic_5</th>\n",
       "      <th>topic_6</th>\n",
       "      <th>topic_7</th>\n",
       "      <th>topic_8</th>\n",
       "      <th>...</th>\n",
       "      <th>topic_16</th>\n",
       "      <th>topic_17</th>\n",
       "      <th>topic_18</th>\n",
       "      <th>topic_19</th>\n",
       "      <th>topic_20</th>\n",
       "      <th>topic_21</th>\n",
       "      <th>topic_22</th>\n",
       "      <th>topic_23</th>\n",
       "      <th>topic_24</th>\n",
       "      <th>churn</th>\n",
       "    </tr>\n",
       "  </thead>\n",
       "  <tbody>\n",
       "    <tr>\n",
       "      <th>0</th>\n",
       "      <td>u105138</td>\n",
       "      <td>0.059501</td>\n",
       "      <td>0.128800</td>\n",
       "      <td>0.0</td>\n",
       "      <td>0.0</td>\n",
       "      <td>0.005758</td>\n",
       "      <td>0.0</td>\n",
       "      <td>0.0</td>\n",
       "      <td>0.000000</td>\n",
       "      <td>0.057816</td>\n",
       "      <td>...</td>\n",
       "      <td>0.010227</td>\n",
       "      <td>0.000000</td>\n",
       "      <td>0.000000</td>\n",
       "      <td>0.0</td>\n",
       "      <td>0.0</td>\n",
       "      <td>0.000000</td>\n",
       "      <td>0.061316</td>\n",
       "      <td>0.038984</td>\n",
       "      <td>0.021289</td>\n",
       "      <td>0</td>\n",
       "    </tr>\n",
       "    <tr>\n",
       "      <th>1</th>\n",
       "      <td>u108690</td>\n",
       "      <td>0.000000</td>\n",
       "      <td>0.175763</td>\n",
       "      <td>0.0</td>\n",
       "      <td>0.0</td>\n",
       "      <td>0.008816</td>\n",
       "      <td>0.0</td>\n",
       "      <td>0.0</td>\n",
       "      <td>0.014527</td>\n",
       "      <td>0.000000</td>\n",
       "      <td>...</td>\n",
       "      <td>0.140998</td>\n",
       "      <td>0.074987</td>\n",
       "      <td>0.000000</td>\n",
       "      <td>0.0</td>\n",
       "      <td>0.0</td>\n",
       "      <td>0.000000</td>\n",
       "      <td>0.177603</td>\n",
       "      <td>0.204821</td>\n",
       "      <td>0.000000</td>\n",
       "      <td>1</td>\n",
       "    </tr>\n",
       "    <tr>\n",
       "      <th>2</th>\n",
       "      <td>u108339</td>\n",
       "      <td>0.079291</td>\n",
       "      <td>0.241106</td>\n",
       "      <td>0.0</td>\n",
       "      <td>0.0</td>\n",
       "      <td>0.000000</td>\n",
       "      <td>0.0</td>\n",
       "      <td>0.0</td>\n",
       "      <td>0.006278</td>\n",
       "      <td>0.006996</td>\n",
       "      <td>...</td>\n",
       "      <td>0.022567</td>\n",
       "      <td>0.073753</td>\n",
       "      <td>0.012618</td>\n",
       "      <td>0.0</td>\n",
       "      <td>0.0</td>\n",
       "      <td>0.021801</td>\n",
       "      <td>0.131704</td>\n",
       "      <td>0.084984</td>\n",
       "      <td>0.025118</td>\n",
       "      <td>1</td>\n",
       "    </tr>\n",
       "  </tbody>\n",
       "</table>\n",
       "<p>3 rows × 27 columns</p>\n",
       "</div>"
      ],
      "text/plain": [
       "       uid   topic_0   topic_1  topic_2  topic_3   topic_4  topic_5  topic_6  \\\n",
       "0  u105138  0.059501  0.128800      0.0      0.0  0.005758      0.0      0.0   \n",
       "1  u108690  0.000000  0.175763      0.0      0.0  0.008816      0.0      0.0   \n",
       "2  u108339  0.079291  0.241106      0.0      0.0  0.000000      0.0      0.0   \n",
       "\n",
       "    topic_7   topic_8  ...  topic_16  topic_17  topic_18  topic_19  topic_20  \\\n",
       "0  0.000000  0.057816  ...  0.010227  0.000000  0.000000       0.0       0.0   \n",
       "1  0.014527  0.000000  ...  0.140998  0.074987  0.000000       0.0       0.0   \n",
       "2  0.006278  0.006996  ...  0.022567  0.073753  0.012618       0.0       0.0   \n",
       "\n",
       "   topic_21  topic_22  topic_23  topic_24  churn  \n",
       "0  0.000000  0.061316  0.038984  0.021289      0  \n",
       "1  0.000000  0.177603  0.204821  0.000000      1  \n",
       "2  0.021801  0.131704  0.084984  0.025118      1  \n",
       "\n",
       "[3 rows x 27 columns]"
      ]
     },
     "execution_count": 40,
     "metadata": {},
     "output_type": "execute_result"
    }
   ],
   "source": [
    "X1 = pd.merge(user_embeddings1, target, 'left')\n",
    "X1.head(3)"
   ]
  },
  {
   "cell_type": "code",
   "execution_count": 41,
   "id": "044c39fd",
   "metadata": {},
   "outputs": [],
   "source": [
    "X_train1, X_test1, y_train1, y_test1 = train_test_split(X1[['topic_{}'.format(i) for i in range(25)]], \n",
    "                                                    X1['churn'], random_state=0)"
   ]
  },
  {
   "cell_type": "code",
   "execution_count": 42,
   "id": "d17ccf5b",
   "metadata": {},
   "outputs": [
    {
     "data": {
      "text/plain": [
       "LogisticRegression()"
      ]
     },
     "execution_count": 42,
     "metadata": {},
     "output_type": "execute_result"
    }
   ],
   "source": [
    "logreg1 = LogisticRegression()\n",
    "#обучим \n",
    "logreg1.fit(X_train1, y_train1)"
   ]
  },
  {
   "cell_type": "code",
   "execution_count": 43,
   "id": "87e80465",
   "metadata": {},
   "outputs": [
    {
     "data": {
      "text/plain": [
       "array([0.10289626, 0.02486194, 0.29265942, 0.23023782, 0.040414  ,\n",
       "       0.09176841, 0.19661712, 0.04791899, 0.03387747, 0.18542493])"
      ]
     },
     "execution_count": 43,
     "metadata": {},
     "output_type": "execute_result"
    }
   ],
   "source": [
    "preds1 = logreg1.predict_proba(X_test1)[:, 1]\n",
    "preds1[:10]"
   ]
  },
  {
   "cell_type": "code",
   "execution_count": 44,
   "id": "b2ed2400",
   "metadata": {},
   "outputs": [
    {
     "data": {
      "text/plain": [
       "[[0.2550587871228532],\n",
       " [0.6441947565543071],\n",
       " [0.5951557093425606],\n",
       " [0.7020408163265306]]"
      ]
     },
     "execution_count": 44,
     "metadata": {},
     "output_type": "execute_result"
    }
   ],
   "source": [
    "metric_list=[[i] for i in [thresholds[ix], fscore[ix], precision[ix], recall[ix]]]\n",
    "metric_list"
   ]
  },
  {
   "cell_type": "code",
   "execution_count": 45,
   "id": "f29087ca",
   "metadata": {},
   "outputs": [
    {
     "name": "stdout",
     "output_type": "stream",
     "text": [
      "Best Threshold=0.218952, F-Score=0.697, Precision=0.587, Recall=0.857\n"
     ]
    }
   ],
   "source": [
    "precision, recall, thresholds = precision_recall_curve(y_test1, preds1)\n",
    "fscore = (2 * precision * recall) / (precision + recall)\n",
    "# locate the index of the largest f score\n",
    "ix = np.argmax(fscore)\n",
    "print('Best Threshold=%f, F-Score=%.3f, Precision=%.3f, Recall=%.3f' % (thresholds[ix], \n",
    "                                                                        fscore[ix],\n",
    "                                                                        precision[ix],\n",
    "                                                                        recall[ix]))"
   ]
  },
  {
   "cell_type": "code",
   "execution_count": 46,
   "id": "ab50a53a",
   "metadata": {},
   "outputs": [
    {
     "data": {
      "text/plain": [
       "[[0.2550587871228532, 0.2189519322527232],\n",
       " [0.6441947565543071, 0.6965174129353233],\n",
       " [0.5951557093425606, 0.5865921787709497],\n",
       " [0.7020408163265306, 0.8571428571428571]]"
      ]
     },
     "execution_count": 46,
     "metadata": {},
     "output_type": "execute_result"
    }
   ],
   "source": [
    "median_metrcs=[thresholds[ix], fscore[ix], precision[ix], recall[ix]]\n",
    "for i in range(len(metric_list)):\n",
    "    metric_list[i].append(median_metrcs[i])\n",
    "metric_list"
   ]
  },
  {
   "cell_type": "code",
   "execution_count": 47,
   "id": "0680ed37",
   "metadata": {},
   "outputs": [
    {
     "name": "stdout",
     "output_type": "stream",
     "text": [
      "Confusion matrix, without normalization\n",
      "[[1607  148]\n",
      " [  36  209]]\n"
     ]
    },
    {
     "data": {
      "image/png": "[encoded data removed]",
      "text/plain": [
       "<Figure size 720x576 with 2 Axes>"
      ]
     },
     "metadata": {
      "needs_background": "light"
     },
     "output_type": "display_data"
    }
   ],
   "source": [
    "font = {'size' : 15}\n",
    "\n",
    "plt.rc('font', **font)\n",
    "\n",
    "cnf_matrix = confusion_matrix(y_test1, preds1>thresholds[ix])\n",
    "plt.figure(figsize=(10, 8))\n",
    "plot_confusion_matrix(cnf_matrix, classes=['Non-Churn', 'churn'],\n",
    "                      title='Confusion matrix')\n",
    "plt.savefig(\"conf_matrix.png\")\n",
    "plt.show()"
   ]
  },
  {
   "cell_type": "code",
   "execution_count": 48,
   "id": "ccb9d77f",
   "metadata": {},
   "outputs": [
    {
     "data": {
      "text/plain": [
       "0.957118437118437"
      ]
     },
     "execution_count": 48,
     "metadata": {},
     "output_type": "execute_result"
    }
   ],
   "source": [
    "roc_auc_score(y_test1, preds1)"
   ]
  },
  {
   "cell_type": "markdown",
   "id": "ae8dbb64",
   "metadata": {},
   "source": [
    "Повторить п.2, но используя уже не медиану, а max"
   ]
  },
  {
   "cell_type": "code",
   "execution_count": 49,
   "id": "9fa4c5f1",
   "metadata": {},
   "outputs": [],
   "source": [
    "def get_user_embedding_max(user_articles_list):\n",
    "    user_articles_list = eval(user_articles_list)\n",
    "    user_vector = np.array([doc_dict[doc_id] for doc_id in user_articles_list])\n",
    "    user_vector = np.max(user_vector, 0)\n",
    "    return user_vector"
   ]
  },
  {
   "cell_type": "code",
   "execution_count": 50,
   "id": "eaea250c",
   "metadata": {},
   "outputs": [
    {
     "data": {
      "text/plain": [
       "array([0.20423244, 0.35885379, 0.        , 0.02039851, 0.07008426,\n",
       "       0.04553185, 0.        , 0.13254099, 0.        , 0.15158615,\n",
       "       0.05349934, 0.07596231, 0.        , 0.07776111, 0.20813957,\n",
       "       0.        , 0.47686839, 0.52620816, 0.0571858 , 0.        ,\n",
       "       0.12567103, 0.0179303 , 0.59215724, 0.17717895, 0.03346931])"
      ]
     },
     "execution_count": 50,
     "metadata": {},
     "output_type": "execute_result"
    }
   ],
   "source": [
    "get_user_embedding_max(user_articles_list)"
   ]
  },
  {
   "cell_type": "code",
   "execution_count": 51,
   "id": "9ae03da9",
   "metadata": {},
   "outputs": [
    {
     "data": {
      "text/html": [
       "<div>\n",
       "<style scoped>\n",
       "    .dataframe tbody tr th:only-of-type {\n",
       "        vertical-align: middle;\n",
       "    }\n",
       "\n",
       "    .dataframe tbody tr th {\n",
       "        vertical-align: top;\n",
       "    }\n",
       "\n",
       "    .dataframe thead th {\n",
       "        text-align: right;\n",
       "    }\n",
       "</style>\n",
       "<table border=\"1\" class=\"dataframe\">\n",
       "  <thead>\n",
       "    <tr style=\"text-align: right;\">\n",
       "      <th></th>\n",
       "      <th>uid</th>\n",
       "      <th>topic_0</th>\n",
       "      <th>topic_1</th>\n",
       "      <th>topic_2</th>\n",
       "      <th>topic_3</th>\n",
       "      <th>topic_4</th>\n",
       "      <th>topic_5</th>\n",
       "      <th>topic_6</th>\n",
       "      <th>topic_7</th>\n",
       "      <th>topic_8</th>\n",
       "      <th>...</th>\n",
       "      <th>topic_15</th>\n",
       "      <th>topic_16</th>\n",
       "      <th>topic_17</th>\n",
       "      <th>topic_18</th>\n",
       "      <th>topic_19</th>\n",
       "      <th>topic_20</th>\n",
       "      <th>topic_21</th>\n",
       "      <th>topic_22</th>\n",
       "      <th>topic_23</th>\n",
       "      <th>topic_24</th>\n",
       "    </tr>\n",
       "  </thead>\n",
       "  <tbody>\n",
       "    <tr>\n",
       "      <th>0</th>\n",
       "      <td>u105138</td>\n",
       "      <td>0.168447</td>\n",
       "      <td>0.334928</td>\n",
       "      <td>0.0</td>\n",
       "      <td>0.000000</td>\n",
       "      <td>0.156508</td>\n",
       "      <td>0.057764</td>\n",
       "      <td>0.000000</td>\n",
       "      <td>0.063189</td>\n",
       "      <td>0.250932</td>\n",
       "      <td>...</td>\n",
       "      <td>0.021014</td>\n",
       "      <td>0.158958</td>\n",
       "      <td>0.265701</td>\n",
       "      <td>0.258593</td>\n",
       "      <td>0.000000</td>\n",
       "      <td>0.480800</td>\n",
       "      <td>0.096950</td>\n",
       "      <td>0.247130</td>\n",
       "      <td>0.611246</td>\n",
       "      <td>0.159049</td>\n",
       "    </tr>\n",
       "    <tr>\n",
       "      <th>1</th>\n",
       "      <td>u108690</td>\n",
       "      <td>0.176569</td>\n",
       "      <td>0.393745</td>\n",
       "      <td>0.0</td>\n",
       "      <td>0.010365</td>\n",
       "      <td>0.091704</td>\n",
       "      <td>0.027368</td>\n",
       "      <td>0.024772</td>\n",
       "      <td>0.105856</td>\n",
       "      <td>0.012418</td>\n",
       "      <td>...</td>\n",
       "      <td>0.019066</td>\n",
       "      <td>0.204523</td>\n",
       "      <td>0.159458</td>\n",
       "      <td>0.099445</td>\n",
       "      <td>0.017720</td>\n",
       "      <td>0.000000</td>\n",
       "      <td>0.070113</td>\n",
       "      <td>0.299351</td>\n",
       "      <td>0.423847</td>\n",
       "      <td>0.049715</td>\n",
       "    </tr>\n",
       "    <tr>\n",
       "      <th>2</th>\n",
       "      <td>u108339</td>\n",
       "      <td>0.248242</td>\n",
       "      <td>0.624830</td>\n",
       "      <td>0.0</td>\n",
       "      <td>0.000000</td>\n",
       "      <td>0.024457</td>\n",
       "      <td>0.029453</td>\n",
       "      <td>0.000000</td>\n",
       "      <td>0.075550</td>\n",
       "      <td>0.113508</td>\n",
       "      <td>...</td>\n",
       "      <td>0.024396</td>\n",
       "      <td>0.052859</td>\n",
       "      <td>0.125696</td>\n",
       "      <td>0.131342</td>\n",
       "      <td>0.039788</td>\n",
       "      <td>0.051839</td>\n",
       "      <td>0.066052</td>\n",
       "      <td>0.306442</td>\n",
       "      <td>0.246217</td>\n",
       "      <td>0.053477</td>\n",
       "    </tr>\n",
       "  </tbody>\n",
       "</table>\n",
       "<p>3 rows × 26 columns</p>\n",
       "</div>"
      ],
      "text/plain": [
       "       uid   topic_0   topic_1  topic_2   topic_3   topic_4   topic_5  \\\n",
       "0  u105138  0.168447  0.334928      0.0  0.000000  0.156508  0.057764   \n",
       "1  u108690  0.176569  0.393745      0.0  0.010365  0.091704  0.027368   \n",
       "2  u108339  0.248242  0.624830      0.0  0.000000  0.024457  0.029453   \n",
       "\n",
       "    topic_6   topic_7   topic_8  ...  topic_15  topic_16  topic_17  topic_18  \\\n",
       "0  0.000000  0.063189  0.250932  ...  0.021014  0.158958  0.265701  0.258593   \n",
       "1  0.024772  0.105856  0.012418  ...  0.019066  0.204523  0.159458  0.099445   \n",
       "2  0.000000  0.075550  0.113508  ...  0.024396  0.052859  0.125696  0.131342   \n",
       "\n",
       "   topic_19  topic_20  topic_21  topic_22  topic_23  topic_24  \n",
       "0  0.000000  0.480800  0.096950  0.247130  0.611246  0.159049  \n",
       "1  0.017720  0.000000  0.070113  0.299351  0.423847  0.049715  \n",
       "2  0.039788  0.051839  0.066052  0.306442  0.246217  0.053477  \n",
       "\n",
       "[3 rows x 26 columns]"
      ]
     },
     "execution_count": 51,
     "metadata": {},
     "output_type": "execute_result"
    }
   ],
   "source": [
    "user_embeddings2 = pd.DataFrame([i for i in users['articles'].apply(lambda x: get_user_embedding_max(x), 1)])\n",
    "user_embeddings2.columns = ['topic_{}'.format(i) for i in range(25)]\n",
    "user_embeddings2['uid'] = users['uid'].values\n",
    "user_embeddings2 = user_embeddings2[['uid']+['topic_{}'.format(i) for i in range(25)]]\n",
    "user_embeddings2.head(3)"
   ]
  },
  {
   "cell_type": "code",
   "execution_count": 52,
   "id": "c6288674",
   "metadata": {},
   "outputs": [
    {
     "data": {
      "text/html": [
       "<div>\n",
       "<style scoped>\n",
       "    .dataframe tbody tr th:only-of-type {\n",
       "        vertical-align: middle;\n",
       "    }\n",
       "\n",
       "    .dataframe tbody tr th {\n",
       "        vertical-align: top;\n",
       "    }\n",
       "\n",
       "    .dataframe thead th {\n",
       "        text-align: right;\n",
       "    }\n",
       "</style>\n",
       "<table border=\"1\" class=\"dataframe\">\n",
       "  <thead>\n",
       "    <tr style=\"text-align: right;\">\n",
       "      <th></th>\n",
       "      <th>uid</th>\n",
       "      <th>topic_0</th>\n",
       "      <th>topic_1</th>\n",
       "      <th>topic_2</th>\n",
       "      <th>topic_3</th>\n",
       "      <th>topic_4</th>\n",
       "      <th>topic_5</th>\n",
       "      <th>topic_6</th>\n",
       "      <th>topic_7</th>\n",
       "      <th>topic_8</th>\n",
       "      <th>...</th>\n",
       "      <th>topic_16</th>\n",
       "      <th>topic_17</th>\n",
       "      <th>topic_18</th>\n",
       "      <th>topic_19</th>\n",
       "      <th>topic_20</th>\n",
       "      <th>topic_21</th>\n",
       "      <th>topic_22</th>\n",
       "      <th>topic_23</th>\n",
       "      <th>topic_24</th>\n",
       "      <th>churn</th>\n",
       "    </tr>\n",
       "  </thead>\n",
       "  <tbody>\n",
       "    <tr>\n",
       "      <th>0</th>\n",
       "      <td>u105138</td>\n",
       "      <td>0.168447</td>\n",
       "      <td>0.334928</td>\n",
       "      <td>0.0</td>\n",
       "      <td>0.000000</td>\n",
       "      <td>0.156508</td>\n",
       "      <td>0.057764</td>\n",
       "      <td>0.000000</td>\n",
       "      <td>0.063189</td>\n",
       "      <td>0.250932</td>\n",
       "      <td>...</td>\n",
       "      <td>0.158958</td>\n",
       "      <td>0.265701</td>\n",
       "      <td>0.258593</td>\n",
       "      <td>0.000000</td>\n",
       "      <td>0.480800</td>\n",
       "      <td>0.096950</td>\n",
       "      <td>0.247130</td>\n",
       "      <td>0.611246</td>\n",
       "      <td>0.159049</td>\n",
       "      <td>0</td>\n",
       "    </tr>\n",
       "    <tr>\n",
       "      <th>1</th>\n",
       "      <td>u108690</td>\n",
       "      <td>0.176569</td>\n",
       "      <td>0.393745</td>\n",
       "      <td>0.0</td>\n",
       "      <td>0.010365</td>\n",
       "      <td>0.091704</td>\n",
       "      <td>0.027368</td>\n",
       "      <td>0.024772</td>\n",
       "      <td>0.105856</td>\n",
       "      <td>0.012418</td>\n",
       "      <td>...</td>\n",
       "      <td>0.204523</td>\n",
       "      <td>0.159458</td>\n",
       "      <td>0.099445</td>\n",
       "      <td>0.017720</td>\n",
       "      <td>0.000000</td>\n",
       "      <td>0.070113</td>\n",
       "      <td>0.299351</td>\n",
       "      <td>0.423847</td>\n",
       "      <td>0.049715</td>\n",
       "      <td>1</td>\n",
       "    </tr>\n",
       "    <tr>\n",
       "      <th>2</th>\n",
       "      <td>u108339</td>\n",
       "      <td>0.248242</td>\n",
       "      <td>0.624830</td>\n",
       "      <td>0.0</td>\n",
       "      <td>0.000000</td>\n",
       "      <td>0.024457</td>\n",
       "      <td>0.029453</td>\n",
       "      <td>0.000000</td>\n",
       "      <td>0.075550</td>\n",
       "      <td>0.113508</td>\n",
       "      <td>...</td>\n",
       "      <td>0.052859</td>\n",
       "      <td>0.125696</td>\n",
       "      <td>0.131342</td>\n",
       "      <td>0.039788</td>\n",
       "      <td>0.051839</td>\n",
       "      <td>0.066052</td>\n",
       "      <td>0.306442</td>\n",
       "      <td>0.246217</td>\n",
       "      <td>0.053477</td>\n",
       "      <td>1</td>\n",
       "    </tr>\n",
       "  </tbody>\n",
       "</table>\n",
       "<p>3 rows × 27 columns</p>\n",
       "</div>"
      ],
      "text/plain": [
       "       uid   topic_0   topic_1  topic_2   topic_3   topic_4   topic_5  \\\n",
       "0  u105138  0.168447  0.334928      0.0  0.000000  0.156508  0.057764   \n",
       "1  u108690  0.176569  0.393745      0.0  0.010365  0.091704  0.027368   \n",
       "2  u108339  0.248242  0.624830      0.0  0.000000  0.024457  0.029453   \n",
       "\n",
       "    topic_6   topic_7   topic_8  ...  topic_16  topic_17  topic_18  topic_19  \\\n",
       "0  0.000000  0.063189  0.250932  ...  0.158958  0.265701  0.258593  0.000000   \n",
       "1  0.024772  0.105856  0.012418  ...  0.204523  0.159458  0.099445  0.017720   \n",
       "2  0.000000  0.075550  0.113508  ...  0.052859  0.125696  0.131342  0.039788   \n",
       "\n",
       "   topic_20  topic_21  topic_22  topic_23  topic_24  churn  \n",
       "0  0.480800  0.096950  0.247130  0.611246  0.159049      0  \n",
       "1  0.000000  0.070113  0.299351  0.423847  0.049715      1  \n",
       "2  0.051839  0.066052  0.306442  0.246217  0.053477      1  \n",
       "\n",
       "[3 rows x 27 columns]"
      ]
     },
     "execution_count": 52,
     "metadata": {},
     "output_type": "execute_result"
    }
   ],
   "source": [
    "X2 = pd.merge(user_embeddings2, target, 'left')\n",
    "X2.head(3)"
   ]
  },
  {
   "cell_type": "code",
   "execution_count": 53,
   "id": "0afa3840",
   "metadata": {},
   "outputs": [],
   "source": [
    "X_train2, X_test2, y_train2, y_test2 = train_test_split(X2[['topic_{}'.format(i) for i in range(25)]], \n",
    "                                                    X2['churn'], random_state=0)"
   ]
  },
  {
   "cell_type": "code",
   "execution_count": 54,
   "id": "4f04b54d",
   "metadata": {},
   "outputs": [
    {
     "data": {
      "text/plain": [
       "LogisticRegression()"
      ]
     },
     "execution_count": 54,
     "metadata": {},
     "output_type": "execute_result"
    }
   ],
   "source": [
    "logreg2 = LogisticRegression()\n",
    "#обучим \n",
    "logreg2.fit(X_train2, y_train2)"
   ]
  },
  {
   "cell_type": "code",
   "execution_count": 55,
   "id": "f7ce62ab",
   "metadata": {},
   "outputs": [
    {
     "data": {
      "text/plain": [
       "array([0.07701995, 0.00660832, 0.66767094, 0.01799333, 0.01704775,\n",
       "       0.02657304, 0.14913478, 0.05997545, 0.04648   , 0.09004454])"
      ]
     },
     "execution_count": 55,
     "metadata": {},
     "output_type": "execute_result"
    }
   ],
   "source": [
    "preds2 = logreg2.predict_proba(X_test2)[:, 1]\n",
    "preds2[:10]"
   ]
  },
  {
   "cell_type": "code",
   "execution_count": 56,
   "id": "4ad25844",
   "metadata": {},
   "outputs": [
    {
     "name": "stdout",
     "output_type": "stream",
     "text": [
      "Best Threshold=0.340117, F-Score=0.766, Precision=0.728, Recall=0.808\n"
     ]
    }
   ],
   "source": [
    "precision, recall, thresholds = precision_recall_curve(y_test2, preds2)\n",
    "fscore = (2 * precision * recall) / (precision + recall)\n",
    "# locate the index of the largest f score\n",
    "ix = np.argmax(fscore)\n",
    "print('Best Threshold=%f, F-Score=%.3f, Precision=%.3f, Recall=%.3f' % (thresholds[ix], \n",
    "                                                                        fscore[ix],\n",
    "                                                                        precision[ix],\n",
    "                                                                        recall[ix]))"
   ]
  },
  {
   "cell_type": "code",
   "execution_count": 57,
   "id": "99f99ba2",
   "metadata": {},
   "outputs": [
    {
     "data": {
      "text/plain": [
       "[[0.2550587871228532, 0.2189519322527232, 0.3401168429768495],\n",
       " [0.6441947565543071, 0.6965174129353233, 0.7659574468085106],\n",
       " [0.5951557093425606, 0.5865921787709497, 0.7279411764705882],\n",
       " [0.7020408163265306, 0.8571428571428571, 0.8081632653061225]]"
      ]
     },
     "execution_count": 57,
     "metadata": {},
     "output_type": "execute_result"
    }
   ],
   "source": [
    "median_metrcs=[thresholds[ix], fscore[ix], precision[ix], recall[ix]]\n",
    "for i in range(len(metric_list)):\n",
    "    metric_list[i].append(median_metrcs[i])\n",
    "metric_list"
   ]
  },
  {
   "cell_type": "code",
   "execution_count": 58,
   "id": "7ede0d70",
   "metadata": {},
   "outputs": [
    {
     "name": "stdout",
     "output_type": "stream",
     "text": [
      "Confusion matrix, without normalization\n",
      "[[1681   74]\n",
      " [  48  197]]\n"
     ]
    },
    {
     "data": {
      "image/png": "[encoded data removed]",
      "text/plain": [
       "<Figure size 720x576 with 2 Axes>"
      ]
     },
     "metadata": {
      "needs_background": "light"
     },
     "output_type": "display_data"
    }
   ],
   "source": [
    "font = {'size' : 15}\n",
    "\n",
    "plt.rc('font', **font)\n",
    "\n",
    "cnf_matrix = confusion_matrix(y_test2, preds2>thresholds[ix])\n",
    "plt.figure(figsize=(10, 8))\n",
    "plot_confusion_matrix(cnf_matrix, classes=['Non-Churn', 'churn'],\n",
    "                      title='Confusion matrix')\n",
    "plt.savefig(\"conf_matrix.png\")\n",
    "plt.show()"
   ]
  },
  {
   "cell_type": "code",
   "execution_count": 59,
   "id": "23529898",
   "metadata": {},
   "outputs": [
    {
     "data": {
      "text/plain": [
       "0.9708843537414966"
      ]
     },
     "execution_count": 59,
     "metadata": {},
     "output_type": "execute_result"
    }
   ],
   "source": [
    "roc_auc_score(y_test2, preds2)"
   ]
  }
 ],
 "metadata": {
  "kernelspec": {
   "display_name": "Python 3",
   "language": "python",
   "name": "python3"
  },
  "language_info": {
   "codemirror_mode": {
    "name": "ipython",
    "version": 3
   },
   "file_extension": ".py",
   "mimetype": "text/x-python",
   "name": "python",
   "nbconvert_exporter": "python",
   "pygments_lexer": "ipython3",
   "version": "3.8.8"
  }
 },
 "nbformat": 4,
 "nbformat_minor": 5
}
